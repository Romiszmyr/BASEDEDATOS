{
  "cells": [
    {
      "cell_type": "markdown",
      "metadata": {
        "id": "view-in-github",
        "colab_type": "text"
      },
      "source": [
        "<a href=\"https://colab.research.google.com/github/Romiszmyr/BASEDEDATOS/blob/main/Copia_de_RESOLUCION_TP1_CienciaDeDatos_PDF.ipynb\" target=\"_parent\"><img src=\"https://colab.research.google.com/assets/colab-badge.svg\" alt=\"Open In Colab\"/></a>"
      ]
    },
    {
      "cell_type": "markdown",
      "metadata": {
        "id": "2X7U2w7IebLm"
      },
      "source": [
        "# Trabajo Practico N1\n",
        "# Introduction al Dessarrollo en Python"
      ]
    },
    {
      "cell_type": "markdown",
      "metadata": {
        "id": "kwBfCKCRNyxc"
      },
      "source": [
        "**EJERCICIO 1**\n",
        "\n",
        "Determinar si un numero ingresado por el usuario es PAR"
      ]
    },
    {
      "cell_type": "code",
      "source": [
        "n=int (input (\"ingrese un numero: \"))\n",
        "if n % 2 ==0:\n",
        "  print (n, \"es par.\")\n",
        "else:\n",
        "  print (n, \"es impar.\")"
      ],
      "metadata": {
        "colab": {
          "base_uri": "https://localhost:8080/"
        },
        "id": "1NFWcpJCImsG",
        "outputId": "d93f7377-e1f4-40a7-c96f-bfcb334a90f3"
      },
      "execution_count": 10,
      "outputs": [
        {
          "output_type": "stream",
          "name": "stdout",
          "text": [
            "ingrese un numero: 5\n",
            "5 es impar.\n"
          ]
        }
      ]
    },
    {
      "cell_type": "markdown",
      "metadata": {
        "id": "3C51NfdL3s17"
      },
      "source": []
    },
    {
      "cell_type": "markdown",
      "metadata": {
        "id": "KKY6JsexOCUy"
      },
      "source": [
        "**EJERCICIO 2**\n",
        "\n",
        "Determinar si un numero ingresado por el usuario esta DENTRO DEL RANGO [1,10] y es par. MUESTRE UN MENSAJE EN CASO CONTRARIO 'NÚMERO FUERA DEL RANGO'"
      ]
    },
    {
      "cell_type": "code",
      "source": [
        "n=int (input (\"ingrese un numero:\"))\n",
        "if n in range (1,10) and n % 2 == 0:\n",
        "  print (\"DENTRO DEL RANGO\")\n",
        "else:\n",
        "  print (\"NUMERO FUERA DEL RANGO\")\n"
      ],
      "metadata": {
        "colab": {
          "base_uri": "https://localhost:8080/"
        },
        "id": "rad0mdFYJYjF",
        "outputId": "09095edb-1dd5-4181-9667-8ed2dce57817"
      },
      "execution_count": 9,
      "outputs": [
        {
          "output_type": "stream",
          "name": "stdout",
          "text": [
            "ingrese un numero:7\n",
            "NUMERO FUERA DEL RANGO\n"
          ]
        }
      ]
    },
    {
      "cell_type": "markdown",
      "metadata": {
        "id": "cfitfYKpQK2O"
      },
      "source": [
        "**EJERCICIO 3 CICLO FOR**\n",
        "\n",
        "\n",
        "Solicitar al usuario que ingrese 10 números. Calcule la suma de todos los números ingresados y  cuente cuántos de ellos son par.\n"
      ]
    },
    {
      "cell_type": "code",
      "source": [
        "def main():\n",
        "  print (\"Suma de numeros pares e impares\")\n",
        "  valores=int (input (\"10\"))\n",
        "  if valores <0==10:\n",
        "    print (\"ERROR\")\n",
        "    else:  pares = 0\n",
        "    for i in range (1, valores +1):\n",
        "      numero=int (input (f\"Escriba el valor {i}: \"))\n",
        "      if numero %2 ==0: pares +=1\n",
        "      print (f\"Ha escrito {pares} numeros pares y {valores-pares} numeros impares.\")\n"
      ],
      "metadata": {
        "colab": {
          "base_uri": "https://localhost:8080/",
          "height": 130
        },
        "id": "wle_l5-bLhWc",
        "outputId": "f34f3777-28d2-4b6a-f71f-83d410704c8e"
      },
      "execution_count": 19,
      "outputs": [
        {
          "output_type": "error",
          "ename": "SyntaxError",
          "evalue": "ignored",
          "traceback": [
            "\u001b[0;36m  File \u001b[0;32m\"<ipython-input-19-d9f5951a291d>\"\u001b[0;36m, line \u001b[0;32m6\u001b[0m\n\u001b[0;31m    else:  pares = 1\u001b[0m\n\u001b[0m    ^\u001b[0m\n\u001b[0;31mSyntaxError\u001b[0m\u001b[0;31m:\u001b[0m invalid syntax\n"
          ]
        }
      ]
    },
    {
      "cell_type": "markdown",
      "metadata": {
        "id": "7YyBaMyyRh7I"
      },
      "source": [
        "**EJERCICIOS 4**\n",
        "\n",
        "Mostrar todos los números presentes en el rango [56,1230]\n",
        "Solicitar al usuario que ingrese el rango [a,b] y muestre todos los números pertenecientes a él."
      ]
    },
    {
      "cell_type": "markdown",
      "metadata": {
        "id": "sCYdUm5DOpPk"
      },
      "source": [
        "**EJERCICIO 5 CICLO WHILE**\n",
        "\n",
        "Solicitar al usuario que ingrese un número, si es negativo o nulo , solicitar reiteradamente hasta que ingrese un numero positivo."
      ]
    },
    {
      "cell_type": "markdown",
      "metadata": {
        "id": "yxB31mqka2i3"
      },
      "source": [
        "chicos, si ingresan un dato nulo (vacio), debo usar un while para que vuelva a pedir lo mismo, pero si es un dato no nulo pasa y el valor lo transfomamos en entero,\n",
        "y comparamos si es positivo. Si no lo es hay que pedir otro dato, pero puede ser nulo, entonces habría que hacer todo de nuevo. Por eso llamo en el  **else** a la funcion  **positivo**, para que inicie todo de nuevo.\n",
        "recuerden que para ejecutar una funcion hay que llamarla con su nombre y parentesis. Ejemplo: positivo()"
      ]
    },
    {
      "cell_type": "markdown",
      "metadata": {
        "id": "Snkm3EDCSb6n"
      },
      "source": [
        "**EJERCICIO 6**\n",
        "\n",
        "Solicitar al usuario que ingrese un número, si el número es positivo , solicitar reiteradamente hasta que ingrese un numero negativo. Luego mostrar dicho número si es par, en caso contrario mostrar un mensaje 'número ingresado impar'."
      ]
    },
    {
      "cell_type": "markdown",
      "metadata": {
        "id": "sypNigFYS3iU"
      },
      "source": [
        "**EJERCICIO 7 VECTORES CON CICLO FOR**\n",
        "\n",
        "Solicitar al usuario que ingrese la cantidad de elementos del vector.\n",
        "Ingresar cada elemento del vector y calcular su promedio.AYUDA: EL PROMEDIO ES LA SUMA DE TODOS LOS NÚMEROS DIVIDO LA CANTIDAD TOTAL.\n",
        "Mostrar el vector."
      ]
    },
    {
      "cell_type": "markdown",
      "metadata": {
        "id": "W15_ajQyULBo"
      },
      "source": [
        "**EJERCICIO 8 LISTA CON CICLO FOR**\n",
        "\n",
        "Solicitar a 10 usuario que ingresen los siguientes datos en el formato lista.\n",
        "\n",
        "['NOMBRE','APELLIDO', 'DNI','GASTOS MENSUALES DE HOGAR']\n",
        "\n",
        "Ingresar el final de la lista los siguientes usuarios:\n",
        "\n",
        "['ESTEBAN','LOPEZ', '45675400','190800.80']\n",
        "\n",
        "['NOELIA','ALEJA', '46906875','85900.50']\n",
        "\n",
        "Mostrar el vector.\n",
        "Eliminar el primer usuario de la lista."
      ]
    },
    {
      "cell_type": "markdown",
      "metadata": {
        "id": "vHZ23eGsrJe-"
      },
      "source": [
        "para probar como funciona cambien en el for el 10 por 2 y ejecuten ingrese los datos que le pidan y al terminar todo vuelvan a poner 10 en el for"
      ]
    },
    {
      "cell_type": "markdown",
      "metadata": {
        "id": "5x1DqNkpTWzi"
      },
      "source": [
        "**EJERCICIO 9 LISTA CON CICLO FOR**\n",
        "\n",
        "Buscar en la web los datos pablacionales de todas las provicias de Argentina , generando una lista con los siguiente información.\n",
        "\n",
        "['PROVINCIA','CANTIDAD DE HABITANTES', 'CONSUMO ELECTRICO PER CAPITA','SUPERFICIE EN M^2']\n",
        "\n",
        "\n",
        "\n",
        "Mostrar TODOS LOS DATOS DEL LISTADO.\n",
        "\n"
      ]
    },
    {
      "cell_type": "markdown",
      "metadata": {
        "id": "i-vHT64rNKKA"
      },
      "source": []
    },
    {
      "cell_type": "markdown",
      "metadata": {
        "id": "SVaFh43fTwt3"
      },
      "source": [
        "**EJERCICIO 10 LISTAS**\n",
        "\n",
        "Crear una lista con información de estudianes de un colegio donde incluya los siguientes items:\n",
        "\n",
        "\n",
        "*   curso y división del aula del alumno\n",
        "*   nombre y apellidos\n",
        "*   DNI\n",
        "*   cantidad de notas en el primer trimestre\n",
        "*   INGRESAR CADA UNA DE ESAS NOTAS, POR EL USUARIO\n",
        "*   promedio del trimestre\n",
        "\n",
        "Mostrar todos los nombres y apellidos de los  alumnos\n",
        "Mostrar los alumnos con promedio mayor o igual a 6\n",
        "\n",
        "\n"
      ]
    }
  ],
  "metadata": {
    "colab": {
      "provenance": [],
      "include_colab_link": true
    },
    "kernelspec": {
      "display_name": "Python 3",
      "name": "python3"
    },
    "language_info": {
      "name": "python"
    }
  },
  "nbformat": 4,
  "nbformat_minor": 0
}