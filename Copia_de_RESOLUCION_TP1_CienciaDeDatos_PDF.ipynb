{
  "cells": [
    {
      "cell_type": "markdown",
      "metadata": {
        "id": "view-in-github",
        "colab_type": "text"
      },
      "source": [
        "<a href=\"https://colab.research.google.com/github/Romiszmyr/BASEDEDATOS/blob/main/Copia_de_RESOLUCION_TP1_CienciaDeDatos_PDF.ipynb\" target=\"_parent\"><img src=\"https://colab.research.google.com/assets/colab-badge.svg\" alt=\"Open In Colab\"/></a>"
      ]
    },
    {
      "cell_type": "markdown",
      "metadata": {
        "id": "2X7U2w7IebLm"
      },
      "source": [
        "# Trabajo Practico N1\n",
        "# Introduction al Dessarrollo en Python"
      ]
    },
    {
      "cell_type": "code",
      "source": [],
      "metadata": {
        "id": "q61QffPpFpOD"
      },
      "execution_count": null,
      "outputs": []
    },
    {
      "cell_type": "markdown",
      "metadata": {
        "id": "kwBfCKCRNyxc"
      },
      "source": [
        "**EJERCICIO 1**\n",
        "\n",
        "Determinar si un numero ingresado por el usuario es PAR"
      ]
    },
    {
      "cell_type": "code",
      "source": [
        "n=int (input (\"ingrese un numero: \"))\n",
        "if n % 2 ==0:\n",
        "  print (n, \"es par.\")\n",
        "else:\n",
        "  print (n, \"es impar.\")"
      ],
      "metadata": {
        "colab": {
          "base_uri": "https://localhost:8080/"
        },
        "id": "1NFWcpJCImsG",
        "outputId": "d93f7377-e1f4-40a7-c96f-bfcb334a90f3"
      },
      "execution_count": null,
      "outputs": [
        {
          "output_type": "stream",
          "name": "stdout",
          "text": [
            "ingrese un numero: 5\n",
            "5 es impar.\n"
          ]
        }
      ]
    },
    {
      "cell_type": "markdown",
      "metadata": {
        "id": "3C51NfdL3s17"
      },
      "source": []
    },
    {
      "cell_type": "markdown",
      "metadata": {
        "id": "KKY6JsexOCUy"
      },
      "source": [
        "**EJERCICIO 2**\n",
        "\n",
        "Determinar si un numero ingresado por el usuario esta DENTRO DEL RANGO [1,10] y es par. MUESTRE UN MENSAJE EN CASO CONTRARIO 'NÚMERO FUERA DEL RANGO'"
      ]
    },
    {
      "cell_type": "code",
      "source": [
        "n=int (input (\"ingrese un numero:\"))\n",
        "if n in range (1,10) and n % 2 == 0:\n",
        "  print (\"DENTRO DEL RANGO\")\n",
        "else:\n",
        "  print (\"NUMERO FUERA DEL RANGO\")\n"
      ],
      "metadata": {
        "colab": {
          "base_uri": "https://localhost:8080/"
        },
        "id": "rad0mdFYJYjF",
        "outputId": "09095edb-1dd5-4181-9667-8ed2dce57817"
      },
      "execution_count": null,
      "outputs": [
        {
          "output_type": "stream",
          "name": "stdout",
          "text": [
            "ingrese un numero:7\n",
            "NUMERO FUERA DEL RANGO\n"
          ]
        }
      ]
    },
    {
      "cell_type": "markdown",
      "metadata": {
        "id": "cfitfYKpQK2O"
      },
      "source": [
        "**EJERCICIO 3 CICLO FOR**\n",
        "\n",
        "\n",
        "Solicitar al usuario que ingrese 10 números. Calcule la suma de todos los números ingresados y  cuente cuántos de ellos son par.\n"
      ]
    },
    {
      "cell_type": "code",
      "source": [
        "números= int (input(\"ingrese 10 numeros: \"))\n",
        "pares=0\n",
        "impares=0\n",
        "for x in range (1,10+1):\n",
        "  if x %2 ==0:\n",
        "    pares= pares + x\n",
        "  else:\n",
        "    impares= impares + x\n",
        "\n",
        "    print(\"La suma de los números pares es: \", pares)\n",
        "\n",
        "\n",
        "\n",
        "\n",
        "\n",
        "\n",
        "\n",
        "\n"
      ],
      "metadata": {
        "id": "vbYcWus0HfbK",
        "colab": {
          "base_uri": "https://localhost:8080/"
        },
        "outputId": "45f4a41b-62c2-4c9b-f3cf-7528901a4f3f"
      },
      "execution_count": null,
      "outputs": [
        {
          "output_type": "stream",
          "name": "stdout",
          "text": [
            "ingrese 10 numeros: 0\n",
            "La suma de los números pares es:  0\n",
            "La suma de los números pares es:  2\n",
            "La suma de los números pares es:  6\n",
            "La suma de los números pares es:  12\n",
            "La suma de los números pares es:  20\n"
          ]
        }
      ]
    },
    {
      "cell_type": "markdown",
      "metadata": {
        "id": "7YyBaMyyRh7I"
      },
      "source": [
        "**EJERCICIOS 4**\n",
        "\n",
        "Mostrar todos los números presentes en el rango [56,1230]\n",
        "Solicitar al usuario que ingrese el rango [a,b] y muestre todos los números pertenecientes a él."
      ]
    },
    {
      "cell_type": "code",
      "source": [
        "a= int(input (\"Inicio\"))\n",
        "b= int(input (\"Fin\"))\n",
        "max= int (1230)\n",
        "min= int (56)\n",
        "\n",
        "for x in range(a,b+1):\n",
        "  if x>=min and x<=max:\n",
        "\n",
        "    print (x)\n",
        "  else:\n",
        "    print (\"ERROR\")\n",
        "\n",
        "\n",
        "\n",
        "\n",
        "\n",
        "\n"
      ],
      "metadata": {
        "colab": {
          "base_uri": "https://localhost:8080/"
        },
        "id": "t2MQMY3ke_F8",
        "outputId": "fa9ba4d4-4741-4432-8aee-1b0bafe31eaf"
      },
      "execution_count": null,
      "outputs": [
        {
          "output_type": "stream",
          "name": "stdout",
          "text": [
            "Inicio62\n",
            "Fin70\n",
            "62\n",
            "63\n",
            "64\n",
            "65\n",
            "66\n",
            "67\n",
            "68\n",
            "69\n",
            "70\n"
          ]
        }
      ]
    },
    {
      "cell_type": "markdown",
      "metadata": {
        "id": "sCYdUm5DOpPk"
      },
      "source": [
        "**EJERCICIO 5 CICLO WHILE**\n",
        "\n",
        "Solicitar al usuario que ingrese un número, si es negativo o nulo , solicitar reiteradamente hasta que ingrese un numero positivo."
      ]
    },
    {
      "cell_type": "markdown",
      "metadata": {
        "id": "yxB31mqka2i3"
      },
      "source": [
        "chicos, si ingresan un dato nulo (vacio), debo usar un while para que vuelva a pedir lo mismo, pero si es un dato no nulo pasa y el valor lo transfomamos en entero,\n",
        "y comparamos si es positivo. Si no lo es hay que pedir otro dato, pero puede ser nulo, entonces habría que hacer todo de nuevo. Por eso llamo en el  **else** a la funcion  **positivo**, para que inicie todo de nuevo.\n",
        "recuerden que para ejecutar una funcion hay que llamarla con su nombre y parentesis. Ejemplo: positivo()"
      ]
    },
    {
      "cell_type": "code",
      "source": [
        "numero= int (input( \"Escriba un numero positivo: \"))\n",
        "while numero <0:\n",
        "  print(\"Es un numero negativo, intentelo nuevamente\")\n",
        "  numero= int(input(\"Escriba un numero positivo: \"))\n",
        "print(\"¡lo has hecho muy bien!\")"
      ],
      "metadata": {
        "colab": {
          "base_uri": "https://localhost:8080/"
        },
        "id": "bDaAmc20trnD",
        "outputId": "e485585b-4d03-480f-dc52-6a46534c28ce"
      },
      "execution_count": null,
      "outputs": [
        {
          "output_type": "stream",
          "name": "stdout",
          "text": [
            "Escriba un numero positivo: 8\n",
            "¡lo has hecho muy bien!\n"
          ]
        }
      ]
    },
    {
      "cell_type": "markdown",
      "metadata": {
        "id": "Snkm3EDCSb6n"
      },
      "source": [
        "**EJERCICIO 6**\n",
        "\n",
        "Solicitar al usuario que ingrese un número, si el número es positivo , solicitar reiteradamente hasta que ingrese un numero negativo. Luego mostrar dicho número si es par, en caso contrario mostrar un mensaje 'número ingresado impar'."
      ]
    },
    {
      "cell_type": "code",
      "source": [
        "\n",
        "def es_par(numero):\n",
        "  return numero % 2 == 0\n",
        "\n",
        "\n",
        "def main():\n",
        "   while True:\n",
        "    try:\n",
        "      num= int (input(\"ingrese un numero: \"))\n",
        "      if numero >= 0:\n",
        "        continue\n",
        "\n",
        "      else:\n",
        "          if es_par(num):\n",
        "             print(\"Numero ingresado par.\")\n",
        "          else:\n",
        "             print(\"Numero ingresado impar.\")\n",
        "          break\n",
        "\n",
        "    except ValueError:\n",
        "      print(\"ingresa un numero entero\")\n",
        "\n",
        "if __name__==\"__main__\":\n",
        "     main()\n",
        "\n",
        "\n",
        "\n"
      ],
      "metadata": {
        "colab": {
          "base_uri": "https://localhost:8080/",
          "height": 519
        },
        "id": "kmXSw8L_gi6r",
        "outputId": "5b96d6a0-fb99-49bd-e412-dd69ac416a2f"
      },
      "execution_count": null,
      "outputs": [
        {
          "output_type": "stream",
          "name": "stdout",
          "text": [
            "ingrese un numero: cuatro\n",
            "ingresa un numero entero\n",
            "ingrese un numero: menos cinco\n",
            "ingresa un numero entero\n",
            "ingrese un numero: menos cuatro\n",
            "ingresa un numero entero\n",
            "ingrese un numero: cero\n",
            "ingresa un numero entero\n"
          ]
        },
        {
          "output_type": "error",
          "ename": "KeyboardInterrupt",
          "evalue": "ignored",
          "traceback": [
            "\u001b[0;31m---------------------------------------------------------------------------\u001b[0m",
            "\u001b[0;31mKeyboardInterrupt\u001b[0m                         Traceback (most recent call last)",
            "\u001b[0;32m<ipython-input-140-ca5050f4ba5d>\u001b[0m in \u001b[0;36m<cell line: 22>\u001b[0;34m()\u001b[0m\n\u001b[1;32m     21\u001b[0m \u001b[0;34m\u001b[0m\u001b[0m\n\u001b[1;32m     22\u001b[0m \u001b[0;32mif\u001b[0m \u001b[0m__name__\u001b[0m\u001b[0;34m==\u001b[0m\u001b[0;34m\"__main__\"\u001b[0m\u001b[0;34m:\u001b[0m\u001b[0;34m\u001b[0m\u001b[0;34m\u001b[0m\u001b[0m\n\u001b[0;32m---> 23\u001b[0;31m      \u001b[0mmain\u001b[0m\u001b[0;34m(\u001b[0m\u001b[0;34m)\u001b[0m\u001b[0;34m\u001b[0m\u001b[0;34m\u001b[0m\u001b[0m\n\u001b[0m\u001b[1;32m     24\u001b[0m \u001b[0;34m\u001b[0m\u001b[0m\n\u001b[1;32m     25\u001b[0m \u001b[0;34m\u001b[0m\u001b[0m\n",
            "\u001b[0;32m<ipython-input-140-ca5050f4ba5d>\u001b[0m in \u001b[0;36mmain\u001b[0;34m()\u001b[0m\n\u001b[1;32m      6\u001b[0m    \u001b[0;32mwhile\u001b[0m \u001b[0;32mTrue\u001b[0m\u001b[0;34m:\u001b[0m\u001b[0;34m\u001b[0m\u001b[0;34m\u001b[0m\u001b[0m\n\u001b[1;32m      7\u001b[0m     \u001b[0;32mtry\u001b[0m\u001b[0;34m:\u001b[0m\u001b[0;34m\u001b[0m\u001b[0;34m\u001b[0m\u001b[0m\n\u001b[0;32m----> 8\u001b[0;31m       \u001b[0mnum\u001b[0m\u001b[0;34m=\u001b[0m \u001b[0mint\u001b[0m \u001b[0;34m(\u001b[0m\u001b[0minput\u001b[0m\u001b[0;34m(\u001b[0m\u001b[0;34m\"ingrese un numero: \"\u001b[0m\u001b[0;34m)\u001b[0m\u001b[0;34m)\u001b[0m\u001b[0;34m\u001b[0m\u001b[0;34m\u001b[0m\u001b[0m\n\u001b[0m\u001b[1;32m      9\u001b[0m       \u001b[0;32mif\u001b[0m \u001b[0mnumero\u001b[0m \u001b[0;34m>=\u001b[0m \u001b[0;36m0\u001b[0m\u001b[0;34m:\u001b[0m\u001b[0;34m\u001b[0m\u001b[0;34m\u001b[0m\u001b[0m\n\u001b[1;32m     10\u001b[0m         \u001b[0;32mcontinue\u001b[0m\u001b[0;34m\u001b[0m\u001b[0;34m\u001b[0m\u001b[0m\n",
            "\u001b[0;32m/usr/local/lib/python3.10/dist-packages/ipykernel/kernelbase.py\u001b[0m in \u001b[0;36mraw_input\u001b[0;34m(self, prompt)\u001b[0m\n\u001b[1;32m    849\u001b[0m                 \u001b[0;34m\"raw_input was called, but this frontend does not support input requests.\"\u001b[0m\u001b[0;34m\u001b[0m\u001b[0;34m\u001b[0m\u001b[0m\n\u001b[1;32m    850\u001b[0m             )\n\u001b[0;32m--> 851\u001b[0;31m         return self._input_request(str(prompt),\n\u001b[0m\u001b[1;32m    852\u001b[0m             \u001b[0mself\u001b[0m\u001b[0;34m.\u001b[0m\u001b[0m_parent_ident\u001b[0m\u001b[0;34m,\u001b[0m\u001b[0;34m\u001b[0m\u001b[0;34m\u001b[0m\u001b[0m\n\u001b[1;32m    853\u001b[0m             \u001b[0mself\u001b[0m\u001b[0;34m.\u001b[0m\u001b[0m_parent_header\u001b[0m\u001b[0;34m,\u001b[0m\u001b[0;34m\u001b[0m\u001b[0;34m\u001b[0m\u001b[0m\n",
            "\u001b[0;32m/usr/local/lib/python3.10/dist-packages/ipykernel/kernelbase.py\u001b[0m in \u001b[0;36m_input_request\u001b[0;34m(self, prompt, ident, parent, password)\u001b[0m\n\u001b[1;32m    893\u001b[0m             \u001b[0;32mexcept\u001b[0m \u001b[0mKeyboardInterrupt\u001b[0m\u001b[0;34m:\u001b[0m\u001b[0;34m\u001b[0m\u001b[0;34m\u001b[0m\u001b[0m\n\u001b[1;32m    894\u001b[0m                 \u001b[0;31m# re-raise KeyboardInterrupt, to truncate traceback\u001b[0m\u001b[0;34m\u001b[0m\u001b[0;34m\u001b[0m\u001b[0m\n\u001b[0;32m--> 895\u001b[0;31m                 \u001b[0;32mraise\u001b[0m \u001b[0mKeyboardInterrupt\u001b[0m\u001b[0;34m(\u001b[0m\u001b[0;34m\"Interrupted by user\"\u001b[0m\u001b[0;34m)\u001b[0m \u001b[0;32mfrom\u001b[0m \u001b[0;32mNone\u001b[0m\u001b[0;34m\u001b[0m\u001b[0;34m\u001b[0m\u001b[0m\n\u001b[0m\u001b[1;32m    896\u001b[0m             \u001b[0;32mexcept\u001b[0m \u001b[0mException\u001b[0m \u001b[0;32mas\u001b[0m \u001b[0me\u001b[0m\u001b[0;34m:\u001b[0m\u001b[0;34m\u001b[0m\u001b[0;34m\u001b[0m\u001b[0m\n\u001b[1;32m    897\u001b[0m                 \u001b[0mself\u001b[0m\u001b[0;34m.\u001b[0m\u001b[0mlog\u001b[0m\u001b[0;34m.\u001b[0m\u001b[0mwarning\u001b[0m\u001b[0;34m(\u001b[0m\u001b[0;34m\"Invalid Message:\"\u001b[0m\u001b[0;34m,\u001b[0m \u001b[0mexc_info\u001b[0m\u001b[0;34m=\u001b[0m\u001b[0;32mTrue\u001b[0m\u001b[0;34m)\u001b[0m\u001b[0;34m\u001b[0m\u001b[0;34m\u001b[0m\u001b[0m\n",
            "\u001b[0;31mKeyboardInterrupt\u001b[0m: Interrupted by user"
          ]
        }
      ]
    },
    {
      "cell_type": "markdown",
      "metadata": {
        "id": "sypNigFYS3iU"
      },
      "source": [
        "**EJERCICIO 7 VECTORES CON CICLO FOR**\n",
        "\n",
        "Solicitar al usuario que ingrese la cantidad de elementos del vector.\n",
        "Ingresar cada elemento del vector y calcular su promedio.AYUDA: EL PROMEDIO ES LA SUMA DE TODOS LOS NÚMEROS DIVIDO LA CANTIDAD TOTAL.\n",
        "Mostrar el vector."
      ]
    },
    {
      "cell_type": "code",
      "source": [
        "n=int(input(\"Escriba un numero\"))\n",
        "vector=[]\n",
        "suma=0\n",
        "for i in range(0,n):\n",
        "  s=int(input(\"Escriba un numero para el vector {i+1}\"))\n",
        "  suma=s+suma\n",
        "  vector.append(s)\n",
        "print(f\"La suma es {suma}\")\n",
        "print(f\"El promedio es {suma/n}\")\n",
        "\n",
        "for i in range (0,n):\n",
        "   print(f\"{vector[i]}\")\n",
        "\n",
        "\n"
      ],
      "metadata": {
        "colab": {
          "base_uri": "https://localhost:8080/"
        },
        "id": "o7h1YTFtSB39",
        "outputId": "e12ac872-b621-476e-903b-4e05e4284ba8"
      },
      "execution_count": null,
      "outputs": [
        {
          "output_type": "stream",
          "name": "stdout",
          "text": [
            "Escriba un numero5\n",
            "Escriba un numero para el vector {i+1}5\n",
            "Escriba un numero para el vector {i+1}6\n",
            "Escriba un numero para el vector {i+1}4\n",
            "Escriba un numero para el vector {i+1}2\n",
            "Escriba un numero para el vector {i+1}10\n",
            "La suma es 27\n",
            "El promedio es 5.4\n",
            "5\n",
            "6\n",
            "4\n",
            "2\n",
            "10\n"
          ]
        }
      ]
    },
    {
      "cell_type": "code",
      "source": [],
      "metadata": {
        "id": "X3mI0lkBWcjc"
      },
      "execution_count": null,
      "outputs": []
    },
    {
      "cell_type": "markdown",
      "metadata": {
        "id": "W15_ajQyULBo"
      },
      "source": [
        "**EJERCICIO 8 LISTA CON CICLO FOR**\n",
        "\n",
        "Solicitar a 10 usuario que ingresen los siguientes datos en el formato lista.\n",
        "\n",
        "['NOMBRE','APELLIDO', 'DNI','GASTOS MENSUALES DE HOGAR']\n",
        "\n",
        "Ingresar el final de la lista los siguientes usuarios:\n",
        "\n",
        "['ESTEBAN','LOPEZ', '45675400','190800.80']\n",
        "\n",
        "['NOELIA','ALEJA', '46906875','85900.50']\n",
        "\n",
        "Mostrar el vector.\n",
        "Eliminar el primer usuario de la lista."
      ]
    },
    {
      "cell_type": "markdown",
      "metadata": {
        "id": "vHZ23eGsrJe-"
      },
      "source": [
        "para probar como funciona cambien en el for el 10 por 2 y ejecuten ingrese los datos que le pidan y al terminar todo vuelvan a poner 10 en el for"
      ]
    },
    {
      "cell_type": "code",
      "source": [
        "todo=[]\n",
        "nombre= []\n",
        "apellido= []\n",
        "dni=[]\n",
        "gasto=[]\n",
        "\n",
        "rango=10 #modificar de acuerdo a los valores que se necesiten\n",
        "\n",
        "for i in range(rango):\n",
        "\n",
        "  nombre.append (input (\"ingrese el nombre\"))\n",
        "  apellido.append (input (\"ingrese el apellido\"))\n",
        "  dni.append (input (\"ingrese el dni\"))\n",
        "  gasto.append (input (\"ingrese el gasto mensual\"))\n",
        "\n",
        "  todo= list(zip(nombre, apellido, dni, gasto))\n",
        "\n",
        "  print(todo)\n",
        "  nombre.append (\"esteban\")\n",
        "  apellido.append (\"lopez\")\n",
        "  dni.append (\"45674400\")\n",
        "  gasto.append (\"190800.80\")\n",
        "  nombre.append (\"noelia\")\n",
        "  apellido.append (\"aleja\")\n",
        "  dni.append (\"46906875\")\n",
        "  gasto.append (\"85900.50\")\n",
        "\n",
        "  todo= list (zip(nombre, apellido, dni, gasto))\n",
        "  print(todo)\n",
        "\n",
        "  todo.pop (0)\n",
        "  print(todo)\n"
      ],
      "metadata": {
        "colab": {
          "base_uri": "https://localhost:8080/"
        },
        "id": "xIVN9NXVFsEC",
        "outputId": "58b0ea72-aaf3-48a7-88c5-9c7ee0d9d9d3"
      },
      "execution_count": null,
      "outputs": [
        {
          "output_type": "stream",
          "name": "stdout",
          "text": [
            "ingrese el nombreromina\n",
            "ingrese el apellidoszmyr\n",
            "ingrese el dni30425569\n",
            "ingrese el gasto mensual250000\n",
            "[('romina', 'szmyr', '30425569', '250000')]\n",
            "[('romina', 'szmyr', '30425569', '250000'), ('esteban', 'lopez', '45674400', '190800.80'), ('noelia', 'aleja', '46906875', '85900.50')]\n",
            "[('esteban', 'lopez', '45674400', '190800.80'), ('noelia', 'aleja', '46906875', '85900.50')]\n",
            "ingrese el nombrejuan martin\n",
            "ingrese el apellidobidonde\n",
            "ingrese el dni30880870\n",
            "ingrese el gasto mensual250000\n",
            "[('romina', 'szmyr', '30425569', '250000'), ('esteban', 'lopez', '45674400', '190800.80'), ('noelia', 'aleja', '46906875', '85900.50'), ('juan martin', 'bidonde', '30880870', '250000')]\n",
            "[('romina', 'szmyr', '30425569', '250000'), ('esteban', 'lopez', '45674400', '190800.80'), ('noelia', 'aleja', '46906875', '85900.50'), ('juan martin', 'bidonde', '30880870', '250000'), ('esteban', 'lopez', '45674400', '190800.80'), ('noelia', 'aleja', '46906875', '85900.50')]\n",
            "[('esteban', 'lopez', '45674400', '190800.80'), ('noelia', 'aleja', '46906875', '85900.50'), ('juan martin', 'bidonde', '30880870', '250000'), ('esteban', 'lopez', '45674400', '190800.80'), ('noelia', 'aleja', '46906875', '85900.50')]\n",
            "ingrese el nombrebaltazar\n",
            "ingrese el apellidoguzman\n",
            "ingrese el dni25485412\n",
            "ingrese el gasto mensual300000\n",
            "[('romina', 'szmyr', '30425569', '250000'), ('esteban', 'lopez', '45674400', '190800.80'), ('noelia', 'aleja', '46906875', '85900.50'), ('juan martin', 'bidonde', '30880870', '250000'), ('esteban', 'lopez', '45674400', '190800.80'), ('noelia', 'aleja', '46906875', '85900.50'), ('baltazar', 'guzman', '25485412', '300000')]\n",
            "[('romina', 'szmyr', '30425569', '250000'), ('esteban', 'lopez', '45674400', '190800.80'), ('noelia', 'aleja', '46906875', '85900.50'), ('juan martin', 'bidonde', '30880870', '250000'), ('esteban', 'lopez', '45674400', '190800.80'), ('noelia', 'aleja', '46906875', '85900.50'), ('baltazar', 'guzman', '25485412', '300000'), ('esteban', 'lopez', '45674400', '190800.80'), ('noelia', 'aleja', '46906875', '85900.50')]\n",
            "[('esteban', 'lopez', '45674400', '190800.80'), ('noelia', 'aleja', '46906875', '85900.50'), ('juan martin', 'bidonde', '30880870', '250000'), ('esteban', 'lopez', '45674400', '190800.80'), ('noelia', 'aleja', '46906875', '85900.50'), ('baltazar', 'guzman', '25485412', '300000'), ('esteban', 'lopez', '45674400', '190800.80'), ('noelia', 'aleja', '46906875', '85900.50')]\n",
            "ingrese el nombrethiago\n",
            "ingrese el apellidosneider\n",
            "ingrese el dni25847855\n",
            "ingrese el gasto mensual600000\n",
            "[('romina', 'szmyr', '30425569', '250000'), ('esteban', 'lopez', '45674400', '190800.80'), ('noelia', 'aleja', '46906875', '85900.50'), ('juan martin', 'bidonde', '30880870', '250000'), ('esteban', 'lopez', '45674400', '190800.80'), ('noelia', 'aleja', '46906875', '85900.50'), ('baltazar', 'guzman', '25485412', '300000'), ('esteban', 'lopez', '45674400', '190800.80'), ('noelia', 'aleja', '46906875', '85900.50'), ('thiago', 'sneider', '25847855', '600000')]\n",
            "[('romina', 'szmyr', '30425569', '250000'), ('esteban', 'lopez', '45674400', '190800.80'), ('noelia', 'aleja', '46906875', '85900.50'), ('juan martin', 'bidonde', '30880870', '250000'), ('esteban', 'lopez', '45674400', '190800.80'), ('noelia', 'aleja', '46906875', '85900.50'), ('baltazar', 'guzman', '25485412', '300000'), ('esteban', 'lopez', '45674400', '190800.80'), ('noelia', 'aleja', '46906875', '85900.50'), ('thiago', 'sneider', '25847855', '600000'), ('esteban', 'lopez', '45674400', '190800.80'), ('noelia', 'aleja', '46906875', '85900.50')]\n",
            "[('esteban', 'lopez', '45674400', '190800.80'), ('noelia', 'aleja', '46906875', '85900.50'), ('juan martin', 'bidonde', '30880870', '250000'), ('esteban', 'lopez', '45674400', '190800.80'), ('noelia', 'aleja', '46906875', '85900.50'), ('baltazar', 'guzman', '25485412', '300000'), ('esteban', 'lopez', '45674400', '190800.80'), ('noelia', 'aleja', '46906875', '85900.50'), ('thiago', 'sneider', '25847855', '600000'), ('esteban', 'lopez', '45674400', '190800.80'), ('noelia', 'aleja', '46906875', '85900.50')]\n",
            "ingrese el nombrecarla\n",
            "ingrese el apellidopeterson\n",
            "ingrese el dni28457855\n",
            "ingrese el gasto mensual500000\n",
            "[('romina', 'szmyr', '30425569', '250000'), ('esteban', 'lopez', '45674400', '190800.80'), ('noelia', 'aleja', '46906875', '85900.50'), ('juan martin', 'bidonde', '30880870', '250000'), ('esteban', 'lopez', '45674400', '190800.80'), ('noelia', 'aleja', '46906875', '85900.50'), ('baltazar', 'guzman', '25485412', '300000'), ('esteban', 'lopez', '45674400', '190800.80'), ('noelia', 'aleja', '46906875', '85900.50'), ('thiago', 'sneider', '25847855', '600000'), ('esteban', 'lopez', '45674400', '190800.80'), ('noelia', 'aleja', '46906875', '85900.50'), ('carla', 'peterson', '28457855', '500000')]\n",
            "[('romina', 'szmyr', '30425569', '250000'), ('esteban', 'lopez', '45674400', '190800.80'), ('noelia', 'aleja', '46906875', '85900.50'), ('juan martin', 'bidonde', '30880870', '250000'), ('esteban', 'lopez', '45674400', '190800.80'), ('noelia', 'aleja', '46906875', '85900.50'), ('baltazar', 'guzman', '25485412', '300000'), ('esteban', 'lopez', '45674400', '190800.80'), ('noelia', 'aleja', '46906875', '85900.50'), ('thiago', 'sneider', '25847855', '600000'), ('esteban', 'lopez', '45674400', '190800.80'), ('noelia', 'aleja', '46906875', '85900.50'), ('carla', 'peterson', '28457855', '500000'), ('esteban', 'lopez', '45674400', '190800.80'), ('noelia', 'aleja', '46906875', '85900.50')]\n",
            "[('esteban', 'lopez', '45674400', '190800.80'), ('noelia', 'aleja', '46906875', '85900.50'), ('juan martin', 'bidonde', '30880870', '250000'), ('esteban', 'lopez', '45674400', '190800.80'), ('noelia', 'aleja', '46906875', '85900.50'), ('baltazar', 'guzman', '25485412', '300000'), ('esteban', 'lopez', '45674400', '190800.80'), ('noelia', 'aleja', '46906875', '85900.50'), ('thiago', 'sneider', '25847855', '600000'), ('esteban', 'lopez', '45674400', '190800.80'), ('noelia', 'aleja', '46906875', '85900.50'), ('carla', 'peterson', '28457855', '500000'), ('esteban', 'lopez', '45674400', '190800.80'), ('noelia', 'aleja', '46906875', '85900.50')]\n",
            "ingrese el nombrepaula\n",
            "ingrese el apellidoquarante\n",
            "ingrese el dni458745\n",
            "ingrese el gasto mensual21000.56\n",
            "[('romina', 'szmyr', '30425569', '250000'), ('esteban', 'lopez', '45674400', '190800.80'), ('noelia', 'aleja', '46906875', '85900.50'), ('juan martin', 'bidonde', '30880870', '250000'), ('esteban', 'lopez', '45674400', '190800.80'), ('noelia', 'aleja', '46906875', '85900.50'), ('baltazar', 'guzman', '25485412', '300000'), ('esteban', 'lopez', '45674400', '190800.80'), ('noelia', 'aleja', '46906875', '85900.50'), ('thiago', 'sneider', '25847855', '600000'), ('esteban', 'lopez', '45674400', '190800.80'), ('noelia', 'aleja', '46906875', '85900.50'), ('carla', 'peterson', '28457855', '500000'), ('esteban', 'lopez', '45674400', '190800.80'), ('noelia', 'aleja', '46906875', '85900.50'), ('paula', 'quarante', '458745', '21000.56')]\n",
            "[('romina', 'szmyr', '30425569', '250000'), ('esteban', 'lopez', '45674400', '190800.80'), ('noelia', 'aleja', '46906875', '85900.50'), ('juan martin', 'bidonde', '30880870', '250000'), ('esteban', 'lopez', '45674400', '190800.80'), ('noelia', 'aleja', '46906875', '85900.50'), ('baltazar', 'guzman', '25485412', '300000'), ('esteban', 'lopez', '45674400', '190800.80'), ('noelia', 'aleja', '46906875', '85900.50'), ('thiago', 'sneider', '25847855', '600000'), ('esteban', 'lopez', '45674400', '190800.80'), ('noelia', 'aleja', '46906875', '85900.50'), ('carla', 'peterson', '28457855', '500000'), ('esteban', 'lopez', '45674400', '190800.80'), ('noelia', 'aleja', '46906875', '85900.50'), ('paula', 'quarante', '458745', '21000.56'), ('esteban', 'lopez', '45674400', '190800.80'), ('noelia', 'aleja', '46906875', '85900.50')]\n",
            "[('esteban', 'lopez', '45674400', '190800.80'), ('noelia', 'aleja', '46906875', '85900.50'), ('juan martin', 'bidonde', '30880870', '250000'), ('esteban', 'lopez', '45674400', '190800.80'), ('noelia', 'aleja', '46906875', '85900.50'), ('baltazar', 'guzman', '25485412', '300000'), ('esteban', 'lopez', '45674400', '190800.80'), ('noelia', 'aleja', '46906875', '85900.50'), ('thiago', 'sneider', '25847855', '600000'), ('esteban', 'lopez', '45674400', '190800.80'), ('noelia', 'aleja', '46906875', '85900.50'), ('carla', 'peterson', '28457855', '500000'), ('esteban', 'lopez', '45674400', '190800.80'), ('noelia', 'aleja', '46906875', '85900.50'), ('paula', 'quarante', '458745', '21000.56'), ('esteban', 'lopez', '45674400', '190800.80'), ('noelia', 'aleja', '46906875', '85900.50')]\n",
            "ingrese el nombremario\n",
            "ingrese el apellidoveterinario\n",
            "ingrese el dni12485566\n",
            "ingrese el gasto mensual548211.20\n",
            "[('romina', 'szmyr', '30425569', '250000'), ('esteban', 'lopez', '45674400', '190800.80'), ('noelia', 'aleja', '46906875', '85900.50'), ('juan martin', 'bidonde', '30880870', '250000'), ('esteban', 'lopez', '45674400', '190800.80'), ('noelia', 'aleja', '46906875', '85900.50'), ('baltazar', 'guzman', '25485412', '300000'), ('esteban', 'lopez', '45674400', '190800.80'), ('noelia', 'aleja', '46906875', '85900.50'), ('thiago', 'sneider', '25847855', '600000'), ('esteban', 'lopez', '45674400', '190800.80'), ('noelia', 'aleja', '46906875', '85900.50'), ('carla', 'peterson', '28457855', '500000'), ('esteban', 'lopez', '45674400', '190800.80'), ('noelia', 'aleja', '46906875', '85900.50'), ('paula', 'quarante', '458745', '21000.56'), ('esteban', 'lopez', '45674400', '190800.80'), ('noelia', 'aleja', '46906875', '85900.50'), ('mario', 'veterinario', '12485566', '548211.20')]\n",
            "[('romina', 'szmyr', '30425569', '250000'), ('esteban', 'lopez', '45674400', '190800.80'), ('noelia', 'aleja', '46906875', '85900.50'), ('juan martin', 'bidonde', '30880870', '250000'), ('esteban', 'lopez', '45674400', '190800.80'), ('noelia', 'aleja', '46906875', '85900.50'), ('baltazar', 'guzman', '25485412', '300000'), ('esteban', 'lopez', '45674400', '190800.80'), ('noelia', 'aleja', '46906875', '85900.50'), ('thiago', 'sneider', '25847855', '600000'), ('esteban', 'lopez', '45674400', '190800.80'), ('noelia', 'aleja', '46906875', '85900.50'), ('carla', 'peterson', '28457855', '500000'), ('esteban', 'lopez', '45674400', '190800.80'), ('noelia', 'aleja', '46906875', '85900.50'), ('paula', 'quarante', '458745', '21000.56'), ('esteban', 'lopez', '45674400', '190800.80'), ('noelia', 'aleja', '46906875', '85900.50'), ('mario', 'veterinario', '12485566', '548211.20'), ('esteban', 'lopez', '45674400', '190800.80'), ('noelia', 'aleja', '46906875', '85900.50')]\n",
            "[('esteban', 'lopez', '45674400', '190800.80'), ('noelia', 'aleja', '46906875', '85900.50'), ('juan martin', 'bidonde', '30880870', '250000'), ('esteban', 'lopez', '45674400', '190800.80'), ('noelia', 'aleja', '46906875', '85900.50'), ('baltazar', 'guzman', '25485412', '300000'), ('esteban', 'lopez', '45674400', '190800.80'), ('noelia', 'aleja', '46906875', '85900.50'), ('thiago', 'sneider', '25847855', '600000'), ('esteban', 'lopez', '45674400', '190800.80'), ('noelia', 'aleja', '46906875', '85900.50'), ('carla', 'peterson', '28457855', '500000'), ('esteban', 'lopez', '45674400', '190800.80'), ('noelia', 'aleja', '46906875', '85900.50'), ('paula', 'quarante', '458745', '21000.56'), ('esteban', 'lopez', '45674400', '190800.80'), ('noelia', 'aleja', '46906875', '85900.50'), ('mario', 'veterinario', '12485566', '548211.20'), ('esteban', 'lopez', '45674400', '190800.80'), ('noelia', 'aleja', '46906875', '85900.50')]\n",
            "ingrese el nombrelorena\n",
            "ingrese el apellidolopez\n",
            "ingrese el dni13569000\n",
            "ingrese el gasto mensual254067.12\n",
            "[('romina', 'szmyr', '30425569', '250000'), ('esteban', 'lopez', '45674400', '190800.80'), ('noelia', 'aleja', '46906875', '85900.50'), ('juan martin', 'bidonde', '30880870', '250000'), ('esteban', 'lopez', '45674400', '190800.80'), ('noelia', 'aleja', '46906875', '85900.50'), ('baltazar', 'guzman', '25485412', '300000'), ('esteban', 'lopez', '45674400', '190800.80'), ('noelia', 'aleja', '46906875', '85900.50'), ('thiago', 'sneider', '25847855', '600000'), ('esteban', 'lopez', '45674400', '190800.80'), ('noelia', 'aleja', '46906875', '85900.50'), ('carla', 'peterson', '28457855', '500000'), ('esteban', 'lopez', '45674400', '190800.80'), ('noelia', 'aleja', '46906875', '85900.50'), ('paula', 'quarante', '458745', '21000.56'), ('esteban', 'lopez', '45674400', '190800.80'), ('noelia', 'aleja', '46906875', '85900.50'), ('mario', 'veterinario', '12485566', '548211.20'), ('esteban', 'lopez', '45674400', '190800.80'), ('noelia', 'aleja', '46906875', '85900.50'), ('lorena', 'lopez', '13569000', '254067.12')]\n",
            "[('romina', 'szmyr', '30425569', '250000'), ('esteban', 'lopez', '45674400', '190800.80'), ('noelia', 'aleja', '46906875', '85900.50'), ('juan martin', 'bidonde', '30880870', '250000'), ('esteban', 'lopez', '45674400', '190800.80'), ('noelia', 'aleja', '46906875', '85900.50'), ('baltazar', 'guzman', '25485412', '300000'), ('esteban', 'lopez', '45674400', '190800.80'), ('noelia', 'aleja', '46906875', '85900.50'), ('thiago', 'sneider', '25847855', '600000'), ('esteban', 'lopez', '45674400', '190800.80'), ('noelia', 'aleja', '46906875', '85900.50'), ('carla', 'peterson', '28457855', '500000'), ('esteban', 'lopez', '45674400', '190800.80'), ('noelia', 'aleja', '46906875', '85900.50'), ('paula', 'quarante', '458745', '21000.56'), ('esteban', 'lopez', '45674400', '190800.80'), ('noelia', 'aleja', '46906875', '85900.50'), ('mario', 'veterinario', '12485566', '548211.20'), ('esteban', 'lopez', '45674400', '190800.80'), ('noelia', 'aleja', '46906875', '85900.50'), ('lorena', 'lopez', '13569000', '254067.12'), ('esteban', 'lopez', '45674400', '190800.80'), ('noelia', 'aleja', '46906875', '85900.50')]\n",
            "[('esteban', 'lopez', '45674400', '190800.80'), ('noelia', 'aleja', '46906875', '85900.50'), ('juan martin', 'bidonde', '30880870', '250000'), ('esteban', 'lopez', '45674400', '190800.80'), ('noelia', 'aleja', '46906875', '85900.50'), ('baltazar', 'guzman', '25485412', '300000'), ('esteban', 'lopez', '45674400', '190800.80'), ('noelia', 'aleja', '46906875', '85900.50'), ('thiago', 'sneider', '25847855', '600000'), ('esteban', 'lopez', '45674400', '190800.80'), ('noelia', 'aleja', '46906875', '85900.50'), ('carla', 'peterson', '28457855', '500000'), ('esteban', 'lopez', '45674400', '190800.80'), ('noelia', 'aleja', '46906875', '85900.50'), ('paula', 'quarante', '458745', '21000.56'), ('esteban', 'lopez', '45674400', '190800.80'), ('noelia', 'aleja', '46906875', '85900.50'), ('mario', 'veterinario', '12485566', '548211.20'), ('esteban', 'lopez', '45674400', '190800.80'), ('noelia', 'aleja', '46906875', '85900.50'), ('lorena', 'lopez', '13569000', '254067.12'), ('esteban', 'lopez', '45674400', '190800.80'), ('noelia', 'aleja', '46906875', '85900.50')]\n",
            "ingrese el nombremikey\n",
            "ingrese el apellidomouse\n",
            "ingrese el dni21256899\n",
            "ingrese el gasto mensual1005002.87\n",
            "[('romina', 'szmyr', '30425569', '250000'), ('esteban', 'lopez', '45674400', '190800.80'), ('noelia', 'aleja', '46906875', '85900.50'), ('juan martin', 'bidonde', '30880870', '250000'), ('esteban', 'lopez', '45674400', '190800.80'), ('noelia', 'aleja', '46906875', '85900.50'), ('baltazar', 'guzman', '25485412', '300000'), ('esteban', 'lopez', '45674400', '190800.80'), ('noelia', 'aleja', '46906875', '85900.50'), ('thiago', 'sneider', '25847855', '600000'), ('esteban', 'lopez', '45674400', '190800.80'), ('noelia', 'aleja', '46906875', '85900.50'), ('carla', 'peterson', '28457855', '500000'), ('esteban', 'lopez', '45674400', '190800.80'), ('noelia', 'aleja', '46906875', '85900.50'), ('paula', 'quarante', '458745', '21000.56'), ('esteban', 'lopez', '45674400', '190800.80'), ('noelia', 'aleja', '46906875', '85900.50'), ('mario', 'veterinario', '12485566', '548211.20'), ('esteban', 'lopez', '45674400', '190800.80'), ('noelia', 'aleja', '46906875', '85900.50'), ('lorena', 'lopez', '13569000', '254067.12'), ('esteban', 'lopez', '45674400', '190800.80'), ('noelia', 'aleja', '46906875', '85900.50'), ('mikey', 'mouse', '21256899', '1005002.87')]\n",
            "[('romina', 'szmyr', '30425569', '250000'), ('esteban', 'lopez', '45674400', '190800.80'), ('noelia', 'aleja', '46906875', '85900.50'), ('juan martin', 'bidonde', '30880870', '250000'), ('esteban', 'lopez', '45674400', '190800.80'), ('noelia', 'aleja', '46906875', '85900.50'), ('baltazar', 'guzman', '25485412', '300000'), ('esteban', 'lopez', '45674400', '190800.80'), ('noelia', 'aleja', '46906875', '85900.50'), ('thiago', 'sneider', '25847855', '600000'), ('esteban', 'lopez', '45674400', '190800.80'), ('noelia', 'aleja', '46906875', '85900.50'), ('carla', 'peterson', '28457855', '500000'), ('esteban', 'lopez', '45674400', '190800.80'), ('noelia', 'aleja', '46906875', '85900.50'), ('paula', 'quarante', '458745', '21000.56'), ('esteban', 'lopez', '45674400', '190800.80'), ('noelia', 'aleja', '46906875', '85900.50'), ('mario', 'veterinario', '12485566', '548211.20'), ('esteban', 'lopez', '45674400', '190800.80'), ('noelia', 'aleja', '46906875', '85900.50'), ('lorena', 'lopez', '13569000', '254067.12'), ('esteban', 'lopez', '45674400', '190800.80'), ('noelia', 'aleja', '46906875', '85900.50'), ('mikey', 'mouse', '21256899', '1005002.87'), ('esteban', 'lopez', '45674400', '190800.80'), ('noelia', 'aleja', '46906875', '85900.50')]\n",
            "[('esteban', 'lopez', '45674400', '190800.80'), ('noelia', 'aleja', '46906875', '85900.50'), ('juan martin', 'bidonde', '30880870', '250000'), ('esteban', 'lopez', '45674400', '190800.80'), ('noelia', 'aleja', '46906875', '85900.50'), ('baltazar', 'guzman', '25485412', '300000'), ('esteban', 'lopez', '45674400', '190800.80'), ('noelia', 'aleja', '46906875', '85900.50'), ('thiago', 'sneider', '25847855', '600000'), ('esteban', 'lopez', '45674400', '190800.80'), ('noelia', 'aleja', '46906875', '85900.50'), ('carla', 'peterson', '28457855', '500000'), ('esteban', 'lopez', '45674400', '190800.80'), ('noelia', 'aleja', '46906875', '85900.50'), ('paula', 'quarante', '458745', '21000.56'), ('esteban', 'lopez', '45674400', '190800.80'), ('noelia', 'aleja', '46906875', '85900.50'), ('mario', 'veterinario', '12485566', '548211.20'), ('esteban', 'lopez', '45674400', '190800.80'), ('noelia', 'aleja', '46906875', '85900.50'), ('lorena', 'lopez', '13569000', '254067.12'), ('esteban', 'lopez', '45674400', '190800.80'), ('noelia', 'aleja', '46906875', '85900.50'), ('mikey', 'mouse', '21256899', '1005002.87'), ('esteban', 'lopez', '45674400', '190800.80'), ('noelia', 'aleja', '46906875', '85900.50')]\n",
            "ingrese el nombrejulio\n",
            "ingrese el apellidoiglesias\n",
            "ingrese el dni2548745\n",
            "ingrese el gasto mensual652124\n",
            "[('romina', 'szmyr', '30425569', '250000'), ('esteban', 'lopez', '45674400', '190800.80'), ('noelia', 'aleja', '46906875', '85900.50'), ('juan martin', 'bidonde', '30880870', '250000'), ('esteban', 'lopez', '45674400', '190800.80'), ('noelia', 'aleja', '46906875', '85900.50'), ('baltazar', 'guzman', '25485412', '300000'), ('esteban', 'lopez', '45674400', '190800.80'), ('noelia', 'aleja', '46906875', '85900.50'), ('thiago', 'sneider', '25847855', '600000'), ('esteban', 'lopez', '45674400', '190800.80'), ('noelia', 'aleja', '46906875', '85900.50'), ('carla', 'peterson', '28457855', '500000'), ('esteban', 'lopez', '45674400', '190800.80'), ('noelia', 'aleja', '46906875', '85900.50'), ('paula', 'quarante', '458745', '21000.56'), ('esteban', 'lopez', '45674400', '190800.80'), ('noelia', 'aleja', '46906875', '85900.50'), ('mario', 'veterinario', '12485566', '548211.20'), ('esteban', 'lopez', '45674400', '190800.80'), ('noelia', 'aleja', '46906875', '85900.50'), ('lorena', 'lopez', '13569000', '254067.12'), ('esteban', 'lopez', '45674400', '190800.80'), ('noelia', 'aleja', '46906875', '85900.50'), ('mikey', 'mouse', '21256899', '1005002.87'), ('esteban', 'lopez', '45674400', '190800.80'), ('noelia', 'aleja', '46906875', '85900.50'), ('julio', 'iglesias', '2548745', '652124')]\n",
            "[('romina', 'szmyr', '30425569', '250000'), ('esteban', 'lopez', '45674400', '190800.80'), ('noelia', 'aleja', '46906875', '85900.50'), ('juan martin', 'bidonde', '30880870', '250000'), ('esteban', 'lopez', '45674400', '190800.80'), ('noelia', 'aleja', '46906875', '85900.50'), ('baltazar', 'guzman', '25485412', '300000'), ('esteban', 'lopez', '45674400', '190800.80'), ('noelia', 'aleja', '46906875', '85900.50'), ('thiago', 'sneider', '25847855', '600000'), ('esteban', 'lopez', '45674400', '190800.80'), ('noelia', 'aleja', '46906875', '85900.50'), ('carla', 'peterson', '28457855', '500000'), ('esteban', 'lopez', '45674400', '190800.80'), ('noelia', 'aleja', '46906875', '85900.50'), ('paula', 'quarante', '458745', '21000.56'), ('esteban', 'lopez', '45674400', '190800.80'), ('noelia', 'aleja', '46906875', '85900.50'), ('mario', 'veterinario', '12485566', '548211.20'), ('esteban', 'lopez', '45674400', '190800.80'), ('noelia', 'aleja', '46906875', '85900.50'), ('lorena', 'lopez', '13569000', '254067.12'), ('esteban', 'lopez', '45674400', '190800.80'), ('noelia', 'aleja', '46906875', '85900.50'), ('mikey', 'mouse', '21256899', '1005002.87'), ('esteban', 'lopez', '45674400', '190800.80'), ('noelia', 'aleja', '46906875', '85900.50'), ('julio', 'iglesias', '2548745', '652124'), ('esteban', 'lopez', '45674400', '190800.80'), ('noelia', 'aleja', '46906875', '85900.50')]\n",
            "[('esteban', 'lopez', '45674400', '190800.80'), ('noelia', 'aleja', '46906875', '85900.50'), ('juan martin', 'bidonde', '30880870', '250000'), ('esteban', 'lopez', '45674400', '190800.80'), ('noelia', 'aleja', '46906875', '85900.50'), ('baltazar', 'guzman', '25485412', '300000'), ('esteban', 'lopez', '45674400', '190800.80'), ('noelia', 'aleja', '46906875', '85900.50'), ('thiago', 'sneider', '25847855', '600000'), ('esteban', 'lopez', '45674400', '190800.80'), ('noelia', 'aleja', '46906875', '85900.50'), ('carla', 'peterson', '28457855', '500000'), ('esteban', 'lopez', '45674400', '190800.80'), ('noelia', 'aleja', '46906875', '85900.50'), ('paula', 'quarante', '458745', '21000.56'), ('esteban', 'lopez', '45674400', '190800.80'), ('noelia', 'aleja', '46906875', '85900.50'), ('mario', 'veterinario', '12485566', '548211.20'), ('esteban', 'lopez', '45674400', '190800.80'), ('noelia', 'aleja', '46906875', '85900.50'), ('lorena', 'lopez', '13569000', '254067.12'), ('esteban', 'lopez', '45674400', '190800.80'), ('noelia', 'aleja', '46906875', '85900.50'), ('mikey', 'mouse', '21256899', '1005002.87'), ('esteban', 'lopez', '45674400', '190800.80'), ('noelia', 'aleja', '46906875', '85900.50'), ('julio', 'iglesias', '2548745', '652124'), ('esteban', 'lopez', '45674400', '190800.80'), ('noelia', 'aleja', '46906875', '85900.50')]\n"
          ]
        }
      ]
    },
    {
      "cell_type": "markdown",
      "metadata": {
        "id": "5x1DqNkpTWzi"
      },
      "source": [
        "**EJERCICIO 9 LISTA CON CICLO FOR**\n",
        "\n",
        "Buscar en la web los datos pablacionales de todas las provicias de Argentina , generando una lista con los siguiente información.\n",
        "\n",
        "['PROVINCIA','CANTIDAD DE HABITANTES', 'CONSUMO ELECTRICO PER CAPITA','SUPERFICIE EN M^2']\n",
        "\n",
        "\n",
        "\n",
        "Mostrar TODOS LOS DATOS DEL LISTADO.\n",
        "\n"
      ]
    },
    {
      "cell_type": "markdown",
      "metadata": {
        "id": "i-vHT64rNKKA"
      },
      "source": []
    },
    {
      "cell_type": "code",
      "source": [
        "datos_provincias=[\n",
        "    [\"Buenos Aires\", 15500000,2300,307571],\n",
        "    [\"Corrientes\", 2035000,1400,103480],\n",
        "    [\"Misiones\", 1758493,2000,107345]]\n",
        "print(\"listado de datos de consumo en argentina por provincias\")\n",
        "print(\"PROVINCIA|HABITANTES|CONSUMO_ELECTRICO|SUPERFICIE_EN_M2\")\n",
        "\n",
        "for provincia,habitantes,consumo_electrico,superficie in datos_provincias:\n",
        "\n",
        "       print(f\"{provincia}|{habitantes}|{consumo_electrico}|{superficie}\")"
      ],
      "metadata": {
        "colab": {
          "base_uri": "https://localhost:8080/"
        },
        "id": "1EeKIVH2oWMj",
        "outputId": "5c9310c1-9f6a-4148-f1ea-05274e1675f3"
      },
      "execution_count": null,
      "outputs": [
        {
          "output_type": "stream",
          "name": "stdout",
          "text": [
            "listado de datos de consumo en argentina por provincias\n",
            "PROVINCIA|HABITANTES|CONSUMO_ELECTRICO|SUPERFICIE_EN_M2\n",
            "Buenos Aires|15500000|2300|307571\n",
            "Corrientes|2035000|1400|103480\n",
            "Misiones|1758493|2000|107345\n"
          ]
        }
      ]
    },
    {
      "cell_type": "markdown",
      "metadata": {
        "id": "SVaFh43fTwt3"
      },
      "source": [
        "**EJERCICIO 10 LISTAS**\n",
        "\n",
        "Crear una lista con información de estudianes de un colegio donde incluya los siguientes items:\n",
        "\n",
        "\n",
        "*   curso y división del aula del alumno\n",
        "*   nombre y apellidos\n",
        "*   DNI\n",
        "*   cantidad de notas en el primer trimestre\n",
        "*   INGRESAR CADA UNA DE ESAS NOTAS, POR EL USUARIO\n",
        "*   promedio del trimestre\n",
        "\n",
        "Mostrar todos los nombres y apellidos de los  alumnos\n",
        "Mostrar los alumnos con promedio mayor o igual a 6\n",
        "\n",
        "\n"
      ]
    },
    {
      "cell_type": "code",
      "source": [
        "todo=[]\n",
        "alumnos=[]\n",
        "curso_y_division=[]\n",
        "nombre_y_apellido=[]\n",
        "dni=[]\n",
        "cantidad_de_notas_primer_trimestre=[]\n",
        "\n",
        "\n",
        "rango= 4 #modificar de acuerdo a la cantidad de alumnos que se necesiten\n",
        "\n",
        "for i in range(4):\n",
        "  curso_y_division.append (input(\"ingrese año de curso\"))\n",
        "  nombre_y_apellido.append (input(\"ingrese nombre y apellido\"))\n",
        "  dni.append (input(\"ingrese su dni\"))\n",
        "\n",
        "  alumnos=list(zip(curso_y_division,nombre_y_apellido,dni))\n",
        "  print(alumnos)\n",
        "\n",
        "  cantidad_de_notas_primer_trimestre=int(input(\"agregar cantidad de notas\"))\n",
        "  vector=[]\n",
        "  suma=0\n",
        "  notas=int(input(\"Ingrese las notas obtenidas este cuatrimestre:\"))\n",
        "\n",
        "  for i in range(rango):\n",
        "    notas=int(input(\"Ingrese una nota obtenida para el vector {i}\"))\n",
        "    suma=notas+suma\n",
        "    vector.append(notas)\n",
        "\n",
        "  print(f\"la suma de las notas es {suma}\")\n",
        "  print(f\"el promedio de las notas es {suma/cantidad_de_notas_primer_trimestre}\")\n",
        "\n",
        "\n",
        "  #hasta aca el ejercicio funciona, despues todo lo que voy agregando salta error\n",
        "\n",
        "  #yo pensaba seguirlo con la siguiente sintaxis, pero no funciona, y ahi es donde estoy confundida\n",
        "\n",
        "\n",
        "print(\"{nombre_y_apellido}\")\n",
        "\n",
        "aprobado=0\n",
        "for h in vec:\n",
        "  if h>=6\n",
        "       aprobado=aprobado+1\n",
        "\n",
        "       print(\"lista de aprobados: {nombre_y_apellido},{promedio}\")\n",
        "\n",
        "\n",
        "\n",
        "\n",
        "\n",
        "\n",
        "\n"
      ],
      "metadata": {
        "colab": {
          "base_uri": "https://localhost:8080/",
          "height": 1000
        },
        "id": "r360aaulWiU0",
        "outputId": "60ae1257-3fbe-42db-ca2c-fc514c33a237"
      },
      "execution_count": 23,
      "outputs": [
        {
          "output_type": "stream",
          "name": "stdout",
          "text": [
            "ingrese año de curso2°a\n",
            "ingrese nombre y apellidoromina szmyr\n",
            "ingrese su dni30425569\n",
            "[('2°a', 'romina szmyr', '30425569')]\n",
            "agregar cantidad de notas4\n",
            "Ingrese las notas obtenidas este cuatrimestre:8\n",
            "Ingrese una nota obtenida para el vector {i}6\n",
            "Ingrese una nota obtenida para el vector {i}7\n",
            "Ingrese una nota obtenida para el vector {i}8\n",
            "Ingrese una nota obtenida para el vector {i}5\n",
            "la suma de las notas es 26\n",
            "el promedio de las notas es 6.5\n",
            "ingrese año de curso3°a\n",
            "ingrese nombre y apellidolola palooza\n",
            "ingrese su dni2356787\n",
            "[('2°a', 'romina szmyr', '30425569'), ('3°a', 'lola palooza', '2356787')]\n",
            "agregar cantidad de notas4\n",
            "Ingrese las notas obtenidas este cuatrimestre:3\n",
            "Ingrese una nota obtenida para el vector {i}6\n",
            "Ingrese una nota obtenida para el vector {i}8\n",
            "Ingrese una nota obtenida para el vector {i}9\n",
            "Ingrese una nota obtenida para el vector {i}8\n",
            "la suma de las notas es 31\n",
            "el promedio de las notas es 7.75\n",
            "ingrese año de curso2°c\n",
            "ingrese nombre y apellidocarolina herrera\n",
            "ingrese su dni23856744\n",
            "[('2°a', 'romina szmyr', '30425569'), ('3°a', 'lola palooza', '2356787'), ('2°c', 'carolina herrera', '23856744')]\n",
            "agregar cantidad de notas3\n",
            "Ingrese las notas obtenidas este cuatrimestre:6\n",
            "Ingrese una nota obtenida para el vector {i}4\n",
            "Ingrese una nota obtenida para el vector {i}7\n",
            "Ingrese una nota obtenida para el vector {i}8\n",
            "Ingrese una nota obtenida para el vector {i}5\n",
            "la suma de las notas es 24\n",
            "el promedio de las notas es 8.0\n",
            "ingrese año de curso5°a\n",
            "ingrese nombre y apellidomartin iluso\n",
            "ingrese su dni12456766\n",
            "[('2°a', 'romina szmyr', '30425569'), ('3°a', 'lola palooza', '2356787'), ('2°c', 'carolina herrera', '23856744'), ('5°a', 'martin iluso', '12456766')]\n",
            "agregar cantidad de notas4\n",
            "Ingrese las notas obtenidas este cuatrimestre:3\n",
            "Ingrese una nota obtenida para el vector {i}7\n",
            "Ingrese una nota obtenida para el vector {i}8\n",
            "Ingrese una nota obtenida para el vector {i}9\n",
            "Ingrese una nota obtenida para el vector {i}10\n",
            "la suma de las notas es 34\n",
            "el promedio de las notas es 8.5\n"
          ]
        },
        {
          "output_type": "error",
          "ename": "ValueError",
          "evalue": "ignored",
          "traceback": [
            "\u001b[0;31m---------------------------------------------------------------------------\u001b[0m",
            "\u001b[0;31mValueError\u001b[0m                                Traceback (most recent call last)",
            "\u001b[0;32m<ipython-input-23-479af31dd77b>\u001b[0m in \u001b[0;36m<cell line: 32>\u001b[0;34m()\u001b[0m\n\u001b[1;32m     30\u001b[0m \u001b[0;34m\u001b[0m\u001b[0m\n\u001b[1;32m     31\u001b[0m \u001b[0;34m\u001b[0m\u001b[0m\n\u001b[0;32m---> 32\u001b[0;31m \u001b[0;32mfor\u001b[0m \u001b[0mnombre_y_apellido\u001b[0m\u001b[0;34m,\u001b[0m\u001b[0mdni\u001b[0m \u001b[0;32min\u001b[0m \u001b[0malumnos\u001b[0m\u001b[0;34m:\u001b[0m\u001b[0;34m\u001b[0m\u001b[0;34m\u001b[0m\u001b[0m\n\u001b[0m\u001b[1;32m     33\u001b[0m   \u001b[0mprint\u001b[0m\u001b[0;34m(\u001b[0m\u001b[0;34mf\"{nombre_y_apellido}|{promedio}\"\u001b[0m\u001b[0;34m)\u001b[0m\u001b[0;34m\u001b[0m\u001b[0;34m\u001b[0m\u001b[0m\n\u001b[1;32m     34\u001b[0m \u001b[0;34m\u001b[0m\u001b[0m\n",
            "\u001b[0;31mValueError\u001b[0m: too many values to unpack (expected 2)"
          ]
        }
      ]
    }
  ],
  "metadata": {
    "colab": {
      "provenance": [],
      "include_colab_link": true
    },
    "kernelspec": {
      "display_name": "Python 3",
      "name": "python3"
    },
    "language_info": {
      "name": "python"
    }
  },
  "nbformat": 4,
  "nbformat_minor": 0
}